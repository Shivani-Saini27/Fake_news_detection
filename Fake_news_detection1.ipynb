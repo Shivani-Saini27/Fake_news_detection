{
 "cells": [
  {
   "cell_type": "code",
   "execution_count": 2,
   "metadata": {},
   "outputs": [
    {
     "name": "stdout",
     "output_type": "stream",
     "text": [
      "Accuracy:92.82%\n"
     ]
    },
    {
     "data": {
      "text/plain": [
       "array([[590,  48],\n",
       "       [ 43, 586]], dtype=int64)"
      ]
     },
     "execution_count": 2,
     "metadata": {},
     "output_type": "execute_result"
    }
   ],
   "source": [
    "import numpy as np\n",
    "import pandas as pd\n",
    "import itertools\n",
    "from sklearn.model_selection import train_test_split\n",
    "from sklearn.feature_extraction.text import TfidfVectorizer   #for tf-idf vectorizer\n",
    "from sklearn.linear_model import PassiveAggressiveClassifier   #for passive aggressive classifier\n",
    "from sklearn.metrics import accuracy_score, confusion_matrix \n",
    "df= pd.read_csv('D:\\\\study\\\\python, mini proj\\\\Fake News Detection\\\\news.csv')\n",
    "#df.head()\n",
    "labels= df.label\n",
    "#labels.head()\n",
    "#len(labels)\n",
    "x_train,x_test,y_train,y_test= train_test_split(df['text'], labels, test_size=0.2, random_state=7)\n",
    "#initialize a tfidfVectorizer\n",
    "tfidf_Vectorizer= TfidfVectorizer(stop_words='english',max_df= 0.7)\n",
    "\n",
    "#fit and transform train set, transform test set\n",
    "tfidf_train= tfidf_Vectorizer.fit_transform(x_train)\n",
    "tfidf_test= tfidf_Vectorizer.transform(x_test)\n",
    "#tfidf_Vectorizer.type()\n",
    "#initialize a PassiveAggressiveClassifier\n",
    "pac= PassiveAggressiveClassifier(max_iter=50)\n",
    "pac.fit(tfidf_train,y_train)\n",
    "y_pred= pac.predict(tfidf_test)\n",
    "score=accuracy_score(y_test,y_pred)\n",
    "print(f\"Accuracy:{round(score*100,2)}%\")\n",
    "confusion_matrix(y_test,y_pred, labels=['FAKE','REAL'])"
   ]
  },
  {
   "cell_type": "code",
   "execution_count": null,
   "metadata": {},
   "outputs": [],
   "source": []
  }
 ],
 "metadata": {
  "kernelspec": {
   "display_name": "Python 3",
   "language": "python",
   "name": "python3"
  },
  "language_info": {
   "codemirror_mode": {
    "name": "ipython",
    "version": 3
   },
   "file_extension": ".py",
   "mimetype": "text/x-python",
   "name": "python",
   "nbconvert_exporter": "python",
   "pygments_lexer": "ipython3",
   "version": "3.8.5"
  }
 },
 "nbformat": 4,
 "nbformat_minor": 2
}
